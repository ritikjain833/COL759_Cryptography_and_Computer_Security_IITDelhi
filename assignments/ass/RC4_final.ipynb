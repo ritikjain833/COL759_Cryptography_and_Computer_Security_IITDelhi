{
  "nbformat": 4,
  "nbformat_minor": 0,
  "metadata": {
    "colab": {
      "name": "RC4_final.ipynb",
      "provenance": [],
      "collapsed_sections": []
    },
    "kernelspec": {
      "display_name": "Python 3",
      "name": "python3"
    },
    "language_info": {
      "name": "python"
    }
  },
  "cells": [
    {
      "cell_type": "code",
      "metadata": {
        "id": "c41QSrpwlDiz"
      },
      "source": [
        "import random\n",
        "import statistics\n",
        "import pandas as pd\n",
        "import math\n",
        "import numpy"
      ],
      "execution_count": null,
      "outputs": []
    },
    {
      "cell_type": "markdown",
      "metadata": {
        "id": "yavNfJJr902k"
      },
      "source": [
        "Key scheduling algorithm "
      ]
    },
    {
      "cell_type": "code",
      "metadata": {
        "id": "pnBHhdWy9yQ3"
      },
      "source": [
        "def KSA(key,rangea):\n",
        "    #rangea = 1024\n",
        "    keylength = len(key)\n",
        "    S = [i for i in range(rangea)]\n",
        "    j = 0\n",
        "    for i in range(rangea):\n",
        "        j = (j + S[i] + key[i % keylength]) % rangea\n",
        "        S[i], S[j] = S[j], S[i]\n",
        "\n",
        "    return S"
      ],
      "execution_count": null,
      "outputs": []
    },
    {
      "cell_type": "markdown",
      "metadata": {
        "id": "1mjGGg_I96mX"
      },
      "source": [
        "Pseudo Random generation algorithm"
      ]
    },
    {
      "cell_type": "code",
      "metadata": {
        "id": "KA1vg2Z09zlt"
      },
      "source": [
        "def PRGA(S,rangea):\n",
        "    i = 0\n",
        "    j = 0\n",
        "    #rangea = 1024\n",
        "    temp=[]\n",
        "    while i<rangea-1:\n",
        "        i = (i + 1) % rangea\n",
        "        j = (j + S[i]) % rangea\n",
        "        S[i], S[j] = S[j], S[i]  # swap\n",
        "\n",
        "        K = S[(S[i] + S[j]) % rangea]\n",
        "  \n",
        "        temp.append(K)\n",
        "    i=rangea-1\n",
        "    i = (i + 1) % rangea\n",
        "    j = (j + S[i]) % rangea\n",
        "    S[i], S[j] = S[j], S[i]  # swap\n",
        "\n",
        "    K = S[(S[i] + S[j]) % rangea]\n",
        "\n",
        "\n",
        "    temp.append(K)\n",
        "\n",
        "\n",
        "    return temp "
      ],
      "execution_count": null,
      "outputs": []
    },
    {
      "cell_type": "markdown",
      "metadata": {
        "id": "Mew3YLxV-UuF"
      },
      "source": [
        "Main RC function"
      ]
    },
    {
      "cell_type": "code",
      "metadata": {
        "id": "Hzrbg82--RNG"
      },
      "source": [
        "def RC4(key,a):\n",
        "    S = KSA(key,a)\n",
        "    return PRGA(S,a)"
      ],
      "execution_count": null,
      "outputs": []
    },
    {
      "cell_type": "markdown",
      "metadata": {
        "id": "-Js938uT-vsV"
      },
      "source": [
        "Convert key to ASCII array"
      ]
    },
    {
      "cell_type": "code",
      "metadata": {
        "id": "Tbn3Ie_H-thr"
      },
      "source": [
        "def convert_key(s):\n",
        "        return [ord(c) for c in s]"
      ],
      "execution_count": null,
      "outputs": []
    },
    {
      "cell_type": "markdown",
      "metadata": {
        "id": "8AVsKmdJ_z29"
      },
      "source": [
        "RC4 Encryption"
      ]
    },
    {
      "cell_type": "code",
      "metadata": {
        "id": "mMpXnmXb_Tv9"
      },
      "source": [
        "def RC4Encryption(plaintext,keystream):\n",
        "  temp=[] \n",
        "  for i in range(len(plaintext)):\n",
        "      #sys.stdout.write(\"%02X\" % (ord(plaintext[i]) ^ (keystream[i]))\n",
        "      aux=ord(plaintext[i]) ^ ((int(keystream[i])))\n",
        "      temp.append(aux)\n",
        "      #temp.append(format(aux,\"02X\"))   \n",
        "  for j in range(i+1,len(keystream)):\n",
        "      temp.append(keystream[j])\n",
        "  return temp   \n"
      ],
      "execution_count": null,
      "outputs": []
    },
    {
      "cell_type": "markdown",
      "metadata": {
        "id": "_hfuQnm2AbC1"
      },
      "source": [
        "RC4 Decryption"
      ]
    },
    {
      "cell_type": "code",
      "metadata": {
        "id": "muqPbBxt_3qt"
      },
      "source": [
        "def RC4Decryption(ciphertext,keystream):\n",
        "  temp=[]\n",
        "  for i in range(len(ciphertext)):\n",
        "      temp.append(chr(keystream[i]^ciphertext[i]))\n",
        "  return \"\".join(temp) \n"
      ],
      "execution_count": null,
      "outputs": []
    },
    {
      "cell_type": "markdown",
      "metadata": {
        "id": "aLXq13GOELz2"
      },
      "source": [
        "Check Difference"
      ]
    },
    {
      "cell_type": "code",
      "metadata": {
        "id": "vQm4BQeLCzuf"
      },
      "source": [
        "def checkDifference(text1,text2):\n",
        "  aux = []\n",
        "  count=0\n",
        "  for i in range(len(text1)):\n",
        "    temp = text1[i]^text2[i]\n",
        "    temp = bin(temp)[2:].rjust(8,\"0\")\n",
        "    aux.append(temp)\n",
        "    #count+=(bin(aux).count(\"1\")) \n",
        "  string = \"\".join(aux)\n",
        "  return string,count  \n",
        "  \n"
      ],
      "execution_count": null,
      "outputs": []
    },
    {
      "cell_type": "markdown",
      "metadata": {
        "id": "tgWXlgkbCPwX"
      },
      "source": [
        "Analyse\n"
      ]
    },
    {
      "cell_type": "code",
      "metadata": {
        "id": "jcMnYSMjCHc-"
      },
      "source": [
        "def analyze(text1,count):\n",
        "  counter=[0]*count\n",
        "  cnt = 0\n",
        "  num_samples = len(text1)\n",
        "  for i in range(0,len(text1)-int(math.log(count,2))):\n",
        "    temp = text1[i:i+int(math.log(count,2))]\n",
        "    int_val = int(temp,2)\n",
        "    counter[int_val]+=1\n",
        "    \n",
        "  # print(counter)\n",
        "  for i in range(count):\n",
        "    if counter[i] != 0 :\n",
        "      cnt += counter[i]\n",
        "  return counter,num_samples"
      ],
      "execution_count": null,
      "outputs": []
    },
    {
      "cell_type": "markdown",
      "metadata": {
        "id": "Di9aK2T5lIlR"
      },
      "source": [
        "Flip bits\n"
      ]
    },
    {
      "cell_type": "code",
      "metadata": {
        "id": "cGYHfA_8lMnZ"
      },
      "source": [
        "def flip(text,j):\n",
        "  randomlist = random.sample(range(0, len(text)), j)\n",
        "  for temp in randomlist:\n",
        "    text[temp]^=1\n",
        "  return text  "
      ],
      "execution_count": null,
      "outputs": []
    },
    {
      "cell_type": "markdown",
      "metadata": {
        "id": "lHMnF5w8pc6E"
      },
      "source": [
        "Randomness "
      ]
    },
    {
      "cell_type": "code",
      "metadata": {
        "id": "zTbBhpYdo49e"
      },
      "source": [
        "def randomness(counter,num_samples,num_of_counter):\n",
        "  #print(num_of_counter)\n",
        "  std_dev = statistics.stdev(counter)\n",
        "  R = (std_dev * num_of_counter)/num_samples\n",
        "  return R\n"
      ],
      "execution_count": null,
      "outputs": []
    },
    {
      "cell_type": "markdown",
      "metadata": {
        "id": "eSxOiLarhEAz"
      },
      "source": [
        "Change key"
      ]
    },
    {
      "cell_type": "code",
      "metadata": {
        "id": "y4fFvnuHh-cN"
      },
      "source": [
        "def change(temp2,j):\n",
        "    temp2=flip(temp2,j)\n",
        "    temp2=[str(aux) for aux in temp2]\n",
        "    temp3=[]\n",
        "    for i in range(0,len(temp2),8):\n",
        "      aux=temp2[i:i+8]\n",
        "      aux1=\"\".join(aux)\n",
        "      temp3.append(int(aux1,2))\n",
        "    return temp3"
      ],
      "execution_count": null,
      "outputs": []
    },
    {
      "cell_type": "markdown",
      "metadata": {
        "id": "RI3uI1yVExfK"
      },
      "source": [
        "Convert numeric list to binary string"
      ]
    },
    {
      "cell_type": "code",
      "metadata": {
        "id": "cqhx_frXhDyM"
      },
      "source": [
        "def bin_val(key1):\n",
        "    temp=[]\n",
        "    ans2=[]\n",
        "    for aux in key1:\n",
        "      temp.append(bin(aux)[2:].rjust(8,\"0\"))\n",
        "    temp2=\"\".join(temp)\n",
        "    temp2=[int(aux) for aux in temp2]\n",
        "    return temp2\n"
      ],
      "execution_count": null,
      "outputs": []
    },
    {
      "cell_type": "markdown",
      "metadata": {
        "id": "r1Ic_tdq-IkU"
      },
      "source": [
        "Main Function"
      ]
    },
    {
      "cell_type": "code",
      "metadata": {
        "colab": {
          "base_uri": "https://localhost:8080/"
        },
        "id": "DL3ZUSEH9XrE",
        "outputId": "119ea333-8bea-4179-9b12-a08372320f8b"
      },
      "source": [
        "\n",
        "if __name__ == '__main__':\n",
        "    # ciphertext should be 45A01F645FC35B383552544B9BF5\n",
        "    key1 = 'abcdefgh'\n",
        "    # f=open(\"message2.txt\",\"r\")\n",
        "    # plaintext=f.read()\n",
        "    final=[]\n",
        "    key1 = convert_key(key1)\n",
        "    \n",
        "    #print(keystream1)\n",
        "    \n",
        "    arr=[32,64,128,256,512]\n",
        "    for a in arr:\n",
        "      keystream1 = RC4(key1,a)\n",
        "      temp2 = bin_val(key1)\n",
        "      ans2 = []\n",
        "      for j in range(1,33):\n",
        "        ans=[]\n",
        "        for k in range(100):\n",
        "          temp3 =  change(temp2,j)\n",
        "          keystream2 = RC4(temp3,a)\n",
        "          changed,count = checkDifference(keystream1,keystream2)\n",
        "          test=a\n",
        "          counter,num_samples = analyze(changed,test)\n",
        "          R=randomness(counter,num_samples,test)\n",
        "          ans.append(R)\n",
        "          temp2=[int(aux) for aux in temp2]\n",
        "        ans2.append(ans)\n",
        "      var=[] \n",
        "      for aux in ans2:\n",
        "        var.append((sum(aux))/100)\n",
        "      final.append(var)\n",
        "    final=numpy.array(final)\n",
        "    final=numpy.transpose(final)\n",
        "    df=pd.DataFrame(final,index=[str(i) for i in range(1,33)],columns=[\"32\",\"64\",\"128\",\"256\",\"512\"])\n",
        "    print(df)\n",
        "    df.to_excel('excel_16.xlsx', sheet_name='welcome')\n",
        " \n",
        "\n",
        "     \n",
        "    \"\"\"     \n",
        "    \n",
        "    #decipheredtext=RC4Decryption(ciphertext,keystream)\n",
        "    #ciphertext2=RC4Encryption(plaintext,keystream2)\n",
        "    print(ciphertext)\n",
        "    #print(checkDifference(ciphertext,ciphertext2))\n",
        "    #print(RC4Decryption(ciphertext2,keystream2))\"\"\"\n",
        "       \n"
      ],
      "execution_count": null,
      "outputs": [
        {
          "output_type": "stream",
          "name": "stdout",
          "text": [
            "          32        64       128       256       512\n",
            "1   1.071958  0.751795  0.475039  0.352350  0.386734\n",
            "2   1.051771  0.743976  0.479767  0.355285  0.385891\n",
            "3   1.060692  0.742411  0.477472  0.350471  0.386061\n",
            "4   1.083170  0.765995  0.487774  0.355607  0.382240\n",
            "5   1.052295  0.752609  0.472760  0.352639  0.383343\n",
            "6   1.068521  0.742213  0.479605  0.352204  0.387971\n",
            "7   1.069521  0.748454  0.487460  0.351875  0.383241\n",
            "8   1.080890  0.748065  0.467704  0.347981  0.385093\n",
            "9   1.066124  0.743934  0.485869  0.354715  0.389313\n",
            "10  1.045600  0.760092  0.480468  0.351783  0.378121\n",
            "11  1.073985  0.751129  0.486196  0.351277  0.377059\n",
            "12  1.040724  0.751374  0.487803  0.348741  0.378192\n",
            "13  1.086354  0.746749  0.484302  0.348190  0.385500\n",
            "14  1.080787  0.758153  0.476630  0.353265  0.383299\n",
            "15  1.067477  0.733295  0.478781  0.355281  0.383239\n",
            "16  1.083649  0.736262  0.482550  0.349723  0.382357\n",
            "17  1.077618  0.745811  0.478366  0.348728  0.379875\n",
            "18  1.054696  0.757278  0.475230  0.353571  0.379010\n",
            "19  1.061325  0.753644  0.473667  0.345616  0.386302\n",
            "20  1.067305  0.746330  0.478491  0.352667  0.381644\n",
            "21  1.091782  0.751385  0.483376  0.349162  0.384716\n",
            "22  1.078272  0.749087  0.481697  0.353473  0.383432\n",
            "23  1.075588  0.754006  0.484580  0.354036  0.387549\n",
            "24  1.076819  0.743450  0.481499  0.354037  0.384145\n",
            "25  1.053787  0.741488  0.475164  0.352747  0.387096\n",
            "26  1.062235  0.746517  0.478648  0.352313  0.383720\n",
            "27  1.044878  0.748540  0.478153  0.352820  0.384485\n",
            "28  1.073586  0.762610  0.482731  0.354133  0.384874\n",
            "29  1.060617  0.740738  0.479238  0.354672  0.385161\n",
            "30  1.075344  0.750539  0.483047  0.351128  0.385974\n",
            "31  1.058570  0.766042  0.476879  0.356251  0.381875\n",
            "32  1.081396  0.753267  0.481191  0.350984  0.384463\n"
          ]
        }
      ]
    }
  ]
}
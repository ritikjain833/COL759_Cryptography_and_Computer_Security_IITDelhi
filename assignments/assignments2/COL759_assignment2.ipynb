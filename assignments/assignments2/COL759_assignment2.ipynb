{
  "cells": [
    {
      "cell_type": "markdown",
      "metadata": {
        "id": "So6DTFdbfW8Z"
      },
      "source": [
        "Main Function"
      ]
    },
    {
      "cell_type": "code",
      "execution_count": null,
      "metadata": {
        "id": "PWZxQfhDnU3l"
      },
      "outputs": [],
      "source": [
        "if __name__==\"__main__\":\n",
        "  #input_data=input(\"Enter the input file\\n\")\n",
        "  input_data=\"ass2/Assignment2/message.txt\"\n",
        "  f=open(input_data,\"r\")\n",
        "  data=f.read()\n",
        "  data=re.sub(r'[^a-zA-Z]',\"\",data).upper()\n",
        "  #print(data)\n",
        "  key=\"FORTIFICATION\"\n",
        "  vg_data=vigenere_encrypt(data,key)\n",
        "  #print(vg_data)\n",
        "  plain_data=vigenere_decrypt(vg_data,key)\n",
        "  #print(plain_data)\n",
        "\n"
      ]
    },
    {
      "cell_type": "markdown",
      "metadata": {
        "id": "0KugxAMVje5Q"
      },
      "source": [
        "Character to number and number to dict Dictionary"
      ]
    },
    {
      "cell_type": "code",
      "execution_count": null,
      "metadata": {
        "id": "1ZhIN87kgul4"
      },
      "outputs": [],
      "source": [
        "def char_to_num_dict():\n",
        "    s = 'ABCDEFGHIJKLMNOPQRSTUVWXYZ'\n",
        "    alphaDict = dict.fromkeys(s,0)\n",
        "    for i in alphaDict.keys():\n",
        "        alphaDict[i]=ord(i)-65\n",
        "    return alphaDict "
      ]
    },
    {
      "cell_type": "code",
      "execution_count": null,
      "metadata": {
        "id": "OMDh3v7Fg8DI"
      },
      "outputs": [],
      "source": [
        "def num_to_char_dict():\n",
        "    numDict=char_to_num_dict()\n",
        "    numDict = {v: k for k, v in numDict.items()}  \n",
        "    #print(numDict)\n",
        "    return numDict"
      ]
    },
    {
      "cell_type": "markdown",
      "metadata": {
        "id": "qDYHPs9PfejX"
      },
      "source": [
        "Vigenere_encrypt and decrypt\n"
      ]
    },
    {
      "cell_type": "code",
      "execution_count": null,
      "metadata": {
        "id": "9CKB9rnZ4oKH"
      },
      "outputs": [],
      "source": [
        "def vigenere_encrypt(data, key):\n",
        "    cipher= []\n",
        "    alphaDict=char_to_num_dict()\n",
        "    numDict=num_to_char_dict()\n",
        "    n=len(key)\n",
        "    length=len(data)\n",
        "    for i in range(length):\n",
        "        x = (alphaDict[data[i]] +\n",
        "             alphaDict[key[i%n]]) % 26\n",
        "        cipher.append(numDict[x])\n",
        "    return(\"\" . join(cipher))"
      ]
    },
    {
      "cell_type": "code",
      "execution_count": null,
      "metadata": {
        "id": "S9nDpWyXHUA5"
      },
      "outputs": [],
      "source": [
        "def vigenere_decrypt(data,key):\n",
        "  plain=[]\n",
        "  n=len(key)\n",
        "  alphaDict=char_to_num_dict()\n",
        "  numDict=num_to_char_dict()\n",
        "  length=len(data)\n",
        "  for i in range(length):\n",
        "    x = (alphaDict[data[i]] -\n",
        "             alphaDict[key[i%n]]) % 26\n",
        "    plain.append(numDict[x])\n",
        "  return (\"\".join(plain))\n"
      ]
    },
    {
      "cell_type": "markdown",
      "metadata": {
        "id": "aBzDacAPggGA"
      },
      "source": [
        "Generate Strong Prime"
      ]
    },
    {
      "cell_type": "code",
      "execution_count": null,
      "metadata": {
        "id": "2kI6Xy8hZJnz"
      },
      "outputs": [],
      "source": [
        "def StrongPrime(bits):\n",
        " return number.getStrongPrime(bits)"
      ]
    },
    {
      "cell_type": "markdown",
      "metadata": {
        "id": "BJXSJznSfznn"
      },
      "source": [
        "Import Libraries\n"
      ]
    },
    {
      "cell_type": "code",
      "execution_count": null,
      "metadata": {
        "id": "p5rmo-0v0vxY"
      },
      "outputs": [],
      "source": [
        "import gmpy2 as mp\n",
        "import numpy as np\n",
        "import re\n",
        "import math\n",
        "import random\n",
        "from gmpy2 import mpz\n",
        "from Crypto.Util import number"
      ]
    },
    {
      "cell_type": "markdown",
      "metadata": {
        "id": "I3F1ihPXf9o5"
      },
      "source": [
        "RSA Key Generation"
      ]
    },
    {
      "cell_type": "code",
      "execution_count": null,
      "metadata": {
        "id": "a-u5NgaAaQQU"
      },
      "outputs": [],
      "source": [
        "def RSAKeyGen(bits):\n",
        "  p=StrongPrime(bits)\n",
        "  q=StrongPrime(bits)\n",
        "  n=mp.mul(p,q)\n",
        "  phi=mp.mul(p-1,q-1)\n",
        "  e=random.randrange(1,phi)\n",
        "  g=math.gcd(e,phi)\n",
        "  while g!=1:\n",
        "    e=random.randrange(1,phi)\n",
        "    g=math.gcd(e,phi)\n",
        "  d=mp.invert(e,phi)\n",
        "  return e,n,d"
      ]
    },
    {
      "cell_type": "code",
      "execution_count": null,
      "metadata": {
        "colab": {
          "base_uri": "https://localhost:8080/"
        },
        "id": "IjRwaJr-ch-b",
        "outputId": "526fdb30-c954-4d07-f499-c7e65bbb0c48"
      },
      "outputs": [
        {
          "name": "stdout",
          "output_type": "stream",
          "text": [
            "15280783420780581829652035064848043750117947359719508311840364849572332099625115960032741215136877974934436982805652173153142599142140975182241460228275082596885390422749292440714568023014917560612186271286825003777459373242116639141889320600400236239282866792543679892153877693807718208088436369422976704575977974187219719734420715482712915486302173956215751764105358259599140349780040720744280071343957079299964866338635233882293964742987615736132127862497857530004324609264691655026898264863078082025742106688339698441682466006349801335571820922007108144628444518662237759967359272621538682611180488348682922536347\n",
            "30189349436983245782207828833429139080764122395019365034400775832607250477826799260364257714035457491588641848190756978121638833758239046858009548038225280942794175973328301838844089432659835044240550989435152679689480467411264447208974337984494681111255989286282875010121699614961613350870204207984162989385696772788214968345996963131346623701019325461947692227571238175234002482655962104448001282858912913022588411421640244426736731875779012539523417314461026093856673676581637579354725257344868513105983614589827390721705219983272263395424740159299293601221266570878661379618242886488448750021483584888823223852057\n",
            "15804106502343767699006128732538999605569268670468230873689460051198364962000604201677677679291204402211376984081076397855769464239861105044954620044820999404558905041347026205081263657196852316473371482105644154727828963804960157330803211856100587526689550344514394723142477038250440148163874450460121709645887660259128615205036397108829119865743696082093228709885382653324638762443613422759902080370400520163114276740394645625961996271412275968126429187456484267348934152091914464227389282005220611528446232523909476218621385350456871675073058583430749987032812407051156717103582397497527969531707524486121866971803\n"
          ]
        }
      ],
      "source": [
        "x,y,z=RSAKeyGen(1024)\n"
      ]
    },
    {
      "cell_type": "code",
      "execution_count": null,
      "metadata": {
        "id": "iexykfh8ZMGo"
      },
      "outputs": [],
      "source": [
        "!apt install libmpc-dev\n",
        "!pip install gmpy2\n",
        "!pip install numpy\n",
        "!pip install pycrypto"
      ]
    },
    {
      "cell_type": "code",
      "execution_count": null,
      "metadata": {
        "id": "sKEvgAsBwzge"
      },
      "outputs": [],
      "source": [
        "from google.colab import drive\n",
        "drive.mount('/content/gdrive')"
      ]
    },
    {
      "cell_type": "code",
      "execution_count": null,
      "metadata": {
        "id": "vr7U94rSz-On"
      },
      "outputs": [],
      "source": [
        "!unzip gdrive/My\\ Drive/ass2\n"
      ]
    },
    {
      "cell_type": "markdown",
      "metadata": {
        "id": "AMNfMGDoT8Yk"
      },
      "source": [
        "Certificate Authority Work"
      ]
    },
    {
      "cell_type": "code",
      "execution_count": null,
      "metadata": {
        "id": "Fs9DLjb6W7t1"
      },
      "outputs": [],
      "source": [
        "def digitalSign(key_e,key_n,key_d):\n",
        "  \"\"\"Read the Digitally document of CA'S private key in secret key sk\"\"\"\n",
        "  d=mp.mpz(sk[0])\n",
        "  n=mp.mpz=(sk[1])\n",
        "  temp1=mp.powmod(key_e,d,n)\n",
        "  temp2=mp.powmod(key_n,d,n)\n",
        "  temp3=mp.powmod(key_d,d,n)\n",
        "  return (temp1,temp2,temp3)  \n",
        "\n"
      ]
    },
    {
      "cell_type": "code",
      "execution_count": null,
      "metadata": {
        "id": "haVmet1OYuQT"
      },
      "outputs": [],
      "source": [
        "def digitalUnsign(key):\n",
        "  \"\"\"Read the file from public directory using CA's public key pk\"\"\"\n",
        "  public_e=mp.mpz(pk[0])\n",
        "  public_n=mp.mpz(pk[1])\n",
        "  return mp.powmod(key,public_e,public_n)\n",
        "\n"
      ]
    },
    {
      "cell_type": "code",
      "execution_count": null,
      "metadata": {
        "id": "NRH_c4zxwdeA"
      },
      "outputs": [],
      "source": [
        "def validateSignature(key):\n",
        "  return (digitalUnsign(mp.mpz(key[0]))==mp.mpz(key[2])) and (digitalUnsign(mp.mpz(key[1]))==mp.mpz(key[3]))\n",
        "    \n",
        "  "
      ]
    },
    {
      "cell_type": "code",
      "execution_count": null,
      "metadata": {
        "id": "cXmNaSykT32c"
      },
      "outputs": [],
      "source": [
        "def publishKeys():\n",
        "  encrypt_CA,N_CA,decrypt_CA=RSAKeyGen(1024)\n",
        "  \"\"\"write the files in directory\"\"\"\n",
        "  #A's key generation and digital Signature\n",
        "  encrypt_A,n_A,decrypt_A=RSAKeyGen(1024)\n",
        "  encrypt_A_DS,N_A_DS,decrypt_A_DS=digitalSign(encrypt_A,n_A,decrypt_A)\n",
        "  \"\"\"write the files in directory\"\"\"\n",
        "  #B's key generation and digital Signature\n",
        "  encrypt_B,n_B,decrypt_B=RSAKeyGen(1024)\n",
        "  encrypt_B_DS,N_B_DS,decrypt_B_DS=digitalSign(encrypt_B,n_B,decrypt_B)\n",
        "  \"\"\"write the files in directory\"\"\"\n",
        "\n",
        "\n",
        "\n",
        "\n",
        "\n"
      ]
    },
    {
      "cell_type": "markdown",
      "metadata": {
        "id": "bxdBwPtAUPbb"
      },
      "source": [
        "Reading and Writing File"
      ]
    },
    {
      "cell_type": "code",
      "execution_count": null,
      "metadata": {
        "id": "8j0y_7NRUPRZ"
      },
      "outputs": [],
      "source": [
        "def read_file(name):\n",
        "  f=open(name,\"r\")\n",
        "  data=f.read()\n",
        "  data=re.sub(r'[^a-zA-Z]',\"\",data).lower()\n",
        "  f.close()\n",
        "  return data\n",
        "\n"
      ]
    },
    {
      "cell_type": "code",
      "execution_count": null,
      "metadata": {
        "id": "c45x8K1jUzZW"
      },
      "outputs": [],
      "source": [
        "def write_file(name,text):\n",
        "  f=open(name,\"w\")\n",
        "  data=f.write(text)\n",
        "  f.close()\n",
        "  return "
      ]
    },
    {
      "cell_type": "markdown",
      "metadata": {
        "id": "NJYtbicnxu8_"
      },
      "source": [
        "Main Encryption Process\n"
      ]
    },
    {
      "cell_type": "code",
      "execution_count": null,
      "metadata": {
        "id": "7jpKgghTx2bC"
      },
      "outputs": [],
      "source": [
        "def encryption(text,alice,bob,key):\n",
        "  \"\"\"Encryption of Vigenere Cipher\"\"\"\n",
        "  encrypted_vigenere=vigenere_encrypt(text,key)\n",
        "  \"\"\"Combining vigenere key and message\"\"\"\n",
        "  numDict=num_to_char_dict()\n",
        "  message=numDict[len(key)]+key+encrypted_vigenere\n",
        "  \"\"\"Encrypt vigenere msg with secret of alice\"\"\"\n",
        "  message_encrypted_ska=encryption_RSA(message,alice,bob,\"d\")\n",
        "  \"\"\"Encrypt whole message using the public key of bob\"\"\"\n",
        "  message_encrypted_pkb=encryption_RSA(message_encrypted_ska,alice,bob,\"e\")\n",
        "  write_file=(\"message_sent.txt\",message_encrypted_pkb)\n",
        "  return\n",
        "  \n"
      ]
    },
    {
      "cell_type": "markdown",
      "metadata": {
        "id": "wBc-1vfs6Aco"
      },
      "source": [
        "Main decryption Process"
      ]
    },
    {
      "cell_type": "code",
      "execution_count": null,
      "metadata": {
        "id": "rrDjrbQx0FGf"
      },
      "outputs": [],
      "source": [
        "def decryption(text,alice,bob,key):\n",
        "  received_message=read_file(\"message_sent.txt\")\n",
        "  \"\"\"Decrypt whole message with secret key of bob\"\"\"\n",
        "  message_decrpyted_skb=decryption_RSA(received_message,alice,bob,\"d\")\n",
        "  \"\"\"Decrypt message with public key of alice\"\"\"\n",
        "  message_decrypted_pka=decryption_RSA(message_decrypted_skb,alice,bob,\"e\")\n",
        "  \"\"\"Recover vigenere key and the Encrypted vigenere message\"\"\"\n",
        "  vigenere_length=numDict[message_decrypted_pka[0]]\n",
        "  aux_list=[]\n",
        "  for i in range(1,vigenere_length+1):\n",
        "    aux_list.append(message_decrypted_pka[i])\n",
        "  vigenere_key=\"\".join(aux_list)\n",
        "  message_encrypted_vigenere=message_decrypted_pka[vigenere_length+2:]\n",
        "  #vigenere_key,message_encrypted_vigenere=recovery_vigenere(message_decrypted_pka)\n",
        "  \"\"\"Decrypted Message with vigenere key\"\"\"\n",
        "  decrypted_vigenere=vigenere_decrypt(message_encrypted_vigenere,vigenere_key)\n",
        "  print(\"The decrypted Message is \\n\",decrypted_vigenere)\n",
        "  return \n"
      ]
    },
    {
      "cell_type": "markdown",
      "metadata": {
        "id": "8F0mu3wg6L-v"
      },
      "source": [
        "Encryption process of RSA"
      ]
    },
    {
      "cell_type": "code",
      "execution_count": null,
      "metadata": {
        "id": "1ANuOgi72BcJ"
      },
      "outputs": [],
      "source": [
        "def encryption_RSA():\n",
        "  \"\"\"Encryption of RSA\"\"\""
      ]
    },
    {
      "cell_type": "markdown",
      "metadata": {
        "id": "sgvAVsBT6QK5"
      },
      "source": [
        "Decryption Process of RSA"
      ]
    },
    {
      "cell_type": "code",
      "execution_count": null,
      "metadata": {
        "id": "RDmp7zcC6Vpw"
      },
      "outputs": [],
      "source": [
        "def decryption_RSA():\n",
        "  \"\"\"Decryption of RSA\"\"\""
      ]
    },
    {
      "cell_type": "code",
      "execution_count": 2,
      "metadata": {},
      "outputs": [],
      "source": [
        "def helloworld():\n",
        "    \"\"\"hello world\"\"\"\n",
        "    pass"
      ]
    }
  ],
  "metadata": {
    "colab": {
      "collapsed_sections": [],
      "name": "COL759_assignment2.ipynb",
      "provenance": []
    },
    "interpreter": {
      "hash": "0ac516125b3ee16d4eaa41f008fade7bad50b808bd1b6d74d2e8ae0015ba9066"
    },
    "kernelspec": {
      "display_name": "Python 3.9.5 64-bit",
      "name": "python3"
    },
    "language_info": {
      "codemirror_mode": {
        "name": "ipython",
        "version": 3
      },
      "file_extension": ".py",
      "mimetype": "text/x-python",
      "name": "python",
      "nbconvert_exporter": "python",
      "pygments_lexer": "ipython3",
      "version": "3.9.5"
    }
  },
  "nbformat": 4,
  "nbformat_minor": 0
}

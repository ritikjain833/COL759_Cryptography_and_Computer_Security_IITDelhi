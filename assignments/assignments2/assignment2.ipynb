{
  "cells": [
    {
      "cell_type": "markdown",
      "metadata": {
        "id": "BJXSJznSfznn"
      },
      "source": [
        "Import Libraries\n"
      ]
    },
    {
      "cell_type": "code",
      "execution_count": 27,
      "metadata": {
        "id": "p5rmo-0v0vxY"
      },
      "outputs": [],
      "source": [
        "import gmpy2 as mp\n",
        "import numpy as np\n",
        "import re\n",
        "import math\n",
        "from gmpy2 import mpz\n",
        "from Crypto.Util import number\n",
        "import sympy\n",
        "import random\n",
        "from Crypto.Util.number import getPrime\n",
        "from Crypto.Random import get_random_bytes\n",
        "import os"
      ]
    },
    {
      "cell_type": "markdown",
      "metadata": {
        "id": "0KugxAMVje5Q"
      },
      "source": [
        "Character to number and number to dict Dictionary"
      ]
    },
    {
      "cell_type": "code",
      "execution_count": 28,
      "metadata": {
        "id": "1ZhIN87kgul4"
      },
      "outputs": [],
      "source": [
        "def char_to_num_dict():\n",
        "    s = 'ABCDEFGHIJKLMNOPQRSTUVWXYZ'\n",
        "    alphaDict = dict.fromkeys(s,0)\n",
        "    for i in alphaDict.keys():\n",
        "        alphaDict[i]=ord(i)-65\n",
        "    alphaDict[' '] = 26\n",
        "    alphaDict[','] = 27\n",
        "    alphaDict['.'] = 28\n",
        "    return alphaDict "
      ]
    },
    {
      "cell_type": "code",
      "execution_count": 29,
      "metadata": {
        "id": "OMDh3v7Fg8DI"
      },
      "outputs": [],
      "source": [
        "def num_to_char_dict():\n",
        "    numDict=char_to_num_dict()\n",
        "    numDict = {v: k for k, v in numDict.items()}  \n",
        "    return numDict"
      ]
    },
    {
      "cell_type": "markdown",
      "metadata": {},
      "source": [
        "Generation of strong prime"
      ]
    },
    {
      "cell_type": "code",
      "execution_count": 30,
      "metadata": {},
      "outputs": [],
      "source": [
        "def generate_strong_prime(primebits):\n",
        "  #generating strong prime through gordon's algorithm\n",
        "  \n",
        "  s = getPrime(primebits,randfunc=get_random_bytes)\n",
        "  t = getPrime(primebits,randfunc=get_random_bytes)\n",
        "\n",
        "  isPrime=False\n",
        "  i=random.randint(0,100)\n",
        "  while (isPrime==False):\n",
        "    r=2*i*t+1\n",
        "    i=i+1\n",
        "    if (sympy.isprime(r)==True): \n",
        "      isPrime=True\n",
        "  p_0 = 2*(pow(s,r-2,r))*s-1\n",
        "  isPrime=False\n",
        "  j=random.randint(0,100)\n",
        "  p=0\n",
        "  while (isPrime==False):\n",
        "    p=p_0+2*j*r*s\n",
        "    j=j+1\n",
        "    if (sympy.isprime(p)==True): \n",
        "      isPrime=True\n",
        "      break\n",
        "  prp = p    \n",
        "  \n",
        "  # is_strong_prp(n,a) will return True if n is an strong (also known as Miller-Rabin) probable prime to the base a here a=41\n",
        "  notStrongPrime = True\n",
        "  prp = mp.next_prime(2**primebits)\n",
        "  count = 0\n",
        "  while notStrongPrime:\n",
        "      if mp.is_strong_prp(prp,41):\n",
        "          notStrongPrime = False\n",
        "      elif not mp.is_strong_prp(prp):\n",
        "          prp = mp.next_prime(prp,41)\n",
        "  return prp"
      ]
    },
    {
      "cell_type": "markdown",
      "metadata": {
        "id": "qDYHPs9PfejX"
      },
      "source": [
        "Vigenere_encrypt and decrypt\n"
      ]
    },
    {
      "cell_type": "code",
      "execution_count": 31,
      "metadata": {},
      "outputs": [],
      "source": [
        "def vigenere_encrypt(data, key):\n",
        "    cipher= []\n",
        "    charsTonum=char_to_num_dict()\n",
        "    numToChars=num_to_char_dict()\n",
        "    n=len(key)\n",
        "    length=len(data)\n",
        "    for i in range(length):\n",
        "        x = (charsTonum[data[i]] +\n",
        "             charsTonum[key[i%n]]) % 26\n",
        "        cipher.append(numToChars[x])\n",
        "    return(\"\" . join(cipher))"
      ]
    },
    {
      "cell_type": "code",
      "execution_count": 32,
      "metadata": {},
      "outputs": [],
      "source": [
        "def vigenere_decrypt(data,key):\n",
        "  plain=[]\n",
        "  n=len(key)\n",
        "  numToChars=char_to_num_dict()\n",
        "  charsTonum=num_to_char_dict()\n",
        "  length=len(data)\n",
        "  for i in range(length):\n",
        "    x = (numToChars[data[i]] -\n",
        "             numToChars[key[i%n]]) % 26\n",
        "    plain.append(charsTonum[x])\n",
        "  return (\"\".join(plain))"
      ]
    },
    {
      "cell_type": "markdown",
      "metadata": {
        "id": "I3F1ihPXf9o5"
      },
      "source": [
        "RSA Key Generation"
      ]
    },
    {
      "cell_type": "code",
      "execution_count": 33,
      "metadata": {
        "id": "a-u5NgaAaQQU"
      },
      "outputs": [],
      "source": [
        "def RSAKeyGen(bits):\n",
        "  #bits=bits//2\n",
        "  p= generate_strong_prime(bits)\n",
        "  bits+=1\n",
        "  q = generate_strong_prime(bits)\n",
        "  n=mp.mul(p,q)\n",
        "  phi=mp.mul(p-1,q-1)\n",
        "  e=random.randrange(1,phi)\n",
        "  g=math.gcd(e,phi)\n",
        "  while g!=1:\n",
        "    e=random.randrange(1,phi)\n",
        "    g=math.gcd(e,phi)\n",
        "  d=mp.invert(e,phi)\n",
        "  return e,n,d"
      ]
    },
    {
      "cell_type": "markdown",
      "metadata": {
        "id": "AMNfMGDoT8Yk"
      },
      "source": [
        "Certificate Authority Work"
      ]
    },
    {
      "cell_type": "markdown",
      "metadata": {
        "id": "bybK7uB1WBTd"
      },
      "source": [
        "Publishing the keys"
      ]
    },
    {
      "cell_type": "code",
      "execution_count": 34,
      "metadata": {
        "id": "cXmNaSykT32c"
      },
      "outputs": [],
      "source": [
        "def publishKeys():\n",
        "  \n",
        "  #CA's key generation \n",
        "  e_CA,n_CA,d_CA = RSAKeyGen(512)\n",
        "  write_file(r\"public_ca.txt\", str(e_CA) + \" \" + str(n_CA))\n",
        "  write_file(r\"private_ca.txt\",str(d_CA) + \" \" + str(n_CA))\n",
        "\n",
        "  #A's key generation and digital Signature\n",
        "  e_A,n_A,d_A = RSAKeyGen(512)\n",
        "  e_A_DS,n_A_DS = digitalSign(e_A,n_A)\n",
        "  \"\"\"write the files in directory\"\"\"\n",
        "  write_file(r\"public_a.txt\", str(e_A_DS) + \" \" + str(n_A_DS) + \" \" + str(e_A) + \" \" + str(n_A))\n",
        "  write_file(r\"private_a.txt\",str(d_A) + \" \" + str(n_A))\n",
        "\n",
        "  #B's key generation and digital Signature\n",
        "  e_B,n_B,d_B = RSAKeyGen(512)\n",
        "  e_B_DS,n_B_DS = digitalSign(e_B,n_B)\n",
        "  \"\"\"write the files in directory\"\"\"\n",
        "  write_file(r\"public_b.txt\", str(e_B_DS) + \" \" + str(n_B_DS) + \" \" + str(e_B) + \" \" + str(n_B))\n",
        "  write_file(r\"private_b.txt\",str(d_B) + \" \" + str(n_B))"
      ]
    },
    {
      "cell_type": "markdown",
      "metadata": {},
      "source": [
        "To sign the text"
      ]
    },
    {
      "cell_type": "code",
      "execution_count": 35,
      "metadata": {},
      "outputs": [],
      "source": [
        "def digitalSignRSA(text,sender):\n",
        "  \"\"\"Digitally sign the text by sender\"\"\"\n",
        "  sender_prkey = read_file(r\"private_\"+str(sender)+\".txt\").split()\n",
        "  d=mp.mpz(sender_prkey[0].strip())\n",
        "  n=mp.mpz(sender_prkey[1].strip())\n",
        "  blockLenDsc = 50\n",
        "  \n",
        "  charSpace = 26          \n",
        "  msg = 0\n",
        "  for i in range(blockLenDsc):\n",
        "      msg += mp.mul(charsTonum[text[i]], mp.mpz(charSpace)**(blockLenDsc -1 -i))     \n",
        "\n",
        "  eMsg = mp.powmod(msg, d, n) \n",
        "  return eMsg  "
      ]
    },
    {
      "cell_type": "markdown",
      "metadata": {},
      "source": [
        "Unsign RSA"
      ]
    },
    {
      "cell_type": "code",
      "execution_count": 36,
      "metadata": {},
      "outputs": [],
      "source": [
        "def digitalUnSignRSA(text,sender):\n",
        "  \"\"\"Digitally sign the text by sender\"\"\"\n",
        "  sender_pukey = read_file(r\"public_\"+str(sender)+\".txt\").split()\n",
        "  e=mp.mpz(sender_pukey[2].strip())\n",
        "  n=mp.mpz(sender_pukey[3].strip())\n",
        "  blockLenDsc = 50\n",
        "  dSign = mp.powmod(mp.mpz(text), e, n) \n",
        "  charSpace = 26\n",
        "  remainder = dSign\n",
        "  m = []\n",
        "  for i in range(blockLenDsc):\n",
        "      quot, remainder = mp.t_divmod(remainder, mp.mpz(charSpace)**(blockLenDsc -1 -i))\n",
        "      m.append(numToChars[mp.t_mod(quot, charSpace)])\n",
        "\n",
        "  decryptedSign = ''.join(m)  \n",
        "  return decryptedSign"
      ]
    },
    {
      "cell_type": "markdown",
      "metadata": {},
      "source": [
        "To sign the public keys by CA"
      ]
    },
    {
      "cell_type": "code",
      "execution_count": 37,
      "metadata": {
        "id": "Fs9DLjb6W7t1"
      },
      "outputs": [],
      "source": [
        "def digitalSign(key_e,key_n):\n",
        "  \"\"\"Digitally sign the keys by CA\"\"\"\n",
        "  ca_sk = read_file(r\"private_ca.txt\").split()\n",
        "  d=mp.mpz(ca_sk[0].strip())\n",
        "  n=mp.mpz(ca_sk[1].strip())\n",
        "  temp1=mp.powmod(key_e,d,n)\n",
        "  temp2=mp.powmod(key_n,d,n)\n",
        "  return (temp1,temp2)  "
      ]
    },
    {
      "cell_type": "code",
      "execution_count": 38,
      "metadata": {
        "id": "haVmet1OYuQT"
      },
      "outputs": [],
      "source": [
        "def digitalUnsign(key_e,key_n):\n",
        "  \"\"\"Digitally Unsign the key by CA\"\"\"\n",
        "  ca_pk = read_file(r\"public_ca.txt\").split()\n",
        "  e=mp.mpz(ca_pk[0].strip())\n",
        "  n=mp.mpz(ca_pk[1].strip())\n",
        "  temp1=mp.powmod(key_e,e,n)\n",
        "  temp2=mp.powmod(key_n,e,n)\n",
        "  return (temp1,temp2)"
      ]
    },
    {
      "cell_type": "markdown",
      "metadata": {},
      "source": [
        "To sign the vigenere key"
      ]
    },
    {
      "cell_type": "code",
      "execution_count": 39,
      "metadata": {},
      "outputs": [],
      "source": [
        "def digitalsign_key(key,sender):\n",
        "  \"\"\"Digitally sign the keys by sender private key\"\"\"\n",
        "  sender_prkey = read_file(r\"private_\"+str(sender)+\".txt\").split()\n",
        "  d=mp.mpz(sender_prkey[0].strip())\n",
        "  n=mp.mpz(sender_prkey[1].strip())\n",
        "  key = mp.mpz(key)\n",
        "  temp1=mp.powmod(key,d,n)\n",
        "  return temp1 "
      ]
    },
    {
      "cell_type": "code",
      "execution_count": 40,
      "metadata": {},
      "outputs": [],
      "source": [
        "def digitalunsign_key(key,sender):\n",
        "  \"\"\"Digitally Unsign the key by sender public key\"\"\"\n",
        "  sender_pukey = read_file(r\"public_\"+str(sender)+\".txt\").split()\n",
        "  e=mp.mpz(sender_pukey[2].strip())\n",
        "  n=mp.mpz(sender_pukey[3].strip())\n",
        "  key = mp.mpz(key)\n",
        "  temp1=mp.powmod(key,e,n)\n",
        "  return temp1"
      ]
    },
    {
      "cell_type": "markdown",
      "metadata": {},
      "source": [
        "To get the public keys by CA"
      ]
    },
    {
      "cell_type": "code",
      "execution_count": 41,
      "metadata": {
        "id": "5T4FMXkYqran"
      },
      "outputs": [],
      "source": [
        "def getpublickey(receiver):\n",
        "  pk = read_file(r\"public_\"+str(receiver)+\".txt\").split()\n",
        "  es=mp.mpz(pk[0].strip())\n",
        "  ns=mp.mpz(pk[1].strip())\n",
        "  e=mp.mpz(pk[2].strip())\n",
        "  n=mp.mpz(pk[3].strip())\n",
        "  esu,nsu = digitalUnsign(es,ns)\n",
        "  if(esu == e  and nsu == n):\n",
        "    return e,n\n",
        "  else:\n",
        "    print(\"Unverified keys\")\n",
        "  return e,n"
      ]
    },
    {
      "cell_type": "markdown",
      "metadata": {
        "id": "bxdBwPtAUPbb"
      },
      "source": [
        "Reading and Writing File"
      ]
    },
    {
      "cell_type": "code",
      "execution_count": 42,
      "metadata": {
        "id": "8j0y_7NRUPRZ"
      },
      "outputs": [],
      "source": [
        "def read_file(name):\n",
        "  with open(name,'r') as openFile:  \n",
        "    t = openFile.read().replace('\\n','')\n",
        "  openFile.close()\n",
        "  t = t.replace(\"'\", \"\")\n",
        "  t = t.replace(\"?\", \"\")\n",
        "  return t.upper()"
      ]
    },
    {
      "cell_type": "code",
      "execution_count": 43,
      "metadata": {
        "id": "c45x8K1jUzZW"
      },
      "outputs": [],
      "source": [
        "def write_file(name,text):\n",
        "  f=open(name,\"w\")\n",
        "  data=f.write(text)\n",
        "  f.close()\n",
        "  return\n",
        "  "
      ]
    },
    {
      "cell_type": "markdown",
      "metadata": {},
      "source": [
        "convert to string intermediate"
      ]
    },
    {
      "cell_type": "code",
      "execution_count": 44,
      "metadata": {},
      "outputs": [],
      "source": [
        "def charstonum_str(key):\n",
        "    \n",
        "    key_list = []\n",
        "    for i in key:\n",
        "        key_list.append(str(charsTonum[i]))\n",
        "    key_str = ''.join(key_list)\n",
        "    return key_str\n"
      ]
    },
    {
      "cell_type": "code",
      "execution_count": 45,
      "metadata": {},
      "outputs": [],
      "source": [
        "def numstochar_str(key):\n",
        "\n",
        "  key_list_a = []\n",
        "  for i in str(key):\n",
        "    key_list_a.append(numToChars[int(i)])\n",
        "  key_str_a = ''.join(key_list_a)\n",
        "  return key_str_a\n"
      ]
    },
    {
      "cell_type": "markdown",
      "metadata": {
        "id": "NJYtbicnxu8_"
      },
      "source": [
        "Main Encryption Process\n"
      ]
    },
    {
      "cell_type": "code",
      "execution_count": 46,
      "metadata": {
        "id": "7jpKgghTx2bC"
      },
      "outputs": [],
      "source": [
        "def encryption(text,sender,receiver,key):\n",
        "  \n",
        "  \"\"\"Encryption of Vigenere Cipher\"\"\"\n",
        "  encrypted_vigenere=vigenere_encrypt(text,key)\n",
        "  \n",
        "  \"\"\"Digtally sign the Vigenere key by senders private key\"\"\"\n",
        "  key_str=charstonum_str(key)\n",
        "  key_signed = digitalsign_key(key_str,sender)\n",
        "  key_str_a =numstochar_str(key_signed)\n",
        "\n",
        "  \"\"\"Digitally Sign the encrypted_vigenere text by senders private key\"\"\"\n",
        "  encrypted_vigenere_signed = digitalSignRSA(encrypted_vigenere,sender)\n",
        "  \n",
        "  text_str=numstochar_str(encrypted_vigenere_signed)\n",
        "  lenth = len(text_str)\n",
        "  len_str=numstochar_str(lenth)\n",
        "  \"\"\"Combining vigenere key and message\"\"\"\n",
        "\n",
        "  message = key + \" \" + key_str_a + \" \" + encrypted_vigenere + \" \" + len_str + \" \" + text_str \n",
        "  \n",
        "  \"\"\"Encrypt whole message using the public key of receiver\"\"\"\n",
        "  message_encrypted_pkr = enRSA(message,sender,receiver,\"e\")\n",
        "  write_file(r\"message_sent.txt\",message_encrypted_pkr)\n",
        "  return "
      ]
    },
    {
      "cell_type": "markdown",
      "metadata": {
        "id": "wBc-1vfs6Aco"
      },
      "source": [
        "Main decryption Process"
      ]
    },
    {
      "cell_type": "code",
      "execution_count": 47,
      "metadata": {
        "id": "rrDjrbQx0FGf"
      },
      "outputs": [],
      "source": [
        "def decryption(text,sender,receiver,key):\n",
        "\n",
        "  received_message = read_file(r\"message_sent.txt\")\n",
        "  message = deRSA(received_message,\"a\",\"b\",\"d\").split()\n",
        "\n",
        "  \"\"\"Recover vigenere key and the Encrypted vigenere message\"\"\"\n",
        "  key = message[0]\n",
        "  key_signed = message[1]\n",
        "  encrypted_text = message[2]\n",
        "  lenth = message[3]\n",
        "  signed_encrypted_text = message[4]\n",
        "\n",
        "  key_str=charstonum_str(key_signed)\n",
        "  key_unsigned = str(digitalunsign_key(key_str,sender))\n",
        "  key_str_check =charstonum_str(key) \n",
        "  \n",
        "  text_str = charstonum_str(signed_encrypted_text)\n",
        "  \n",
        "  lenth_str = charstonum_str(lenth)\n",
        "\n",
        "  text_str = text_str[0:int(lenth_str)]\n",
        "  \n",
        "  unsigned_encrypted_text = digitalUnSignRSA(text_str,sender)\n",
        " \n",
        "  check_vig = encrypted_text[0:50]\n",
        "  \n",
        "  if (key_str_check == key_unsigned and unsigned_encrypted_text == check_vig ):\n",
        "      decipher_str = vigenere_decrypt(encrypted_text,key)\n",
        "      print(decipher_str)\n",
        "  else:\n",
        "    print(\"Reject Invalid message\")\n",
        "    \n",
        "  return "
      ]
    },
    {
      "cell_type": "code",
      "execution_count": 48,
      "metadata": {
        "id": "xB0-Ya2Q2vuM"
      },
      "outputs": [],
      "source": [
        "def BlockSize(n):\n",
        "    a = mp.mpz(n)\n",
        "    r = 0\n",
        "    while mp.mpz(charSpace)**r < a:\n",
        "        r += 1\n",
        "    return r"
      ]
    },
    {
      "cell_type": "code",
      "execution_count": 49,
      "metadata": {
        "id": "xUJpjef4HWTQ"
      },
      "outputs": [],
      "source": [
        "def Msgblock(text,l):\n",
        "    msgBlocks = []\n",
        "    aux=[]\n",
        "    for char in text:\n",
        "      aux.append(char)\n",
        "      if(len(aux) == l):\n",
        "            msgBlocks.append(\"\".join(aux))\n",
        "            aux.clear()\n",
        "    #remaining auxiliary characters append        \n",
        "    msgBlocks.append(aux) \n",
        "    return msgBlocks"
      ]
    },
    {
      "cell_type": "markdown",
      "metadata": {
        "id": "8F0mu3wg6L-v"
      },
      "source": [
        "Encryption and Decryption process of RSA"
      ]
    },
    {
      "cell_type": "code",
      "execution_count": 50,
      "metadata": {},
      "outputs": [],
      "source": [
        "def enRSA(text, sender, receiver, operation):\n",
        "    \n",
        "    pk = read_file(r\"public_\" + receiver + \".txt\").split()\n",
        "    \n",
        "    e = mp.mpz(pk[2].strip())\n",
        "    n = mp.mpz(pk[3].strip())\n",
        "       \n",
        "    blockLen = BlockSize(n)\n",
        "    \n",
        "    msgBlocks = Msgblock(text, blockLen)\n",
        "    \n",
        "    if(len(msgBlocks[-1]) != blockLen):\n",
        "        remainder=blockLen - len(msgBlocks[-1])\n",
        "        for i in range(remainder):\n",
        "            msgBlocks[-1] += numToChars[np.random.randint(0, 1)]\n",
        "      \n",
        "    encryptedMsg = []\n",
        "    for block in msgBlocks:\n",
        "        msg = 0\n",
        "        for i in range(blockLen):\n",
        "            msg += mp.mul(charsTonum[block[i]], mp.mpz(charSpace)**(blockLen -1 -i))   \n",
        "        \n",
        "        eMsg = mp.powmod(msg, e, n)\n",
        "        encryptedMsg.append(eMsg)\n",
        "   \n",
        "    enMsg = \"\"\n",
        "    for msg in encryptedMsg:\n",
        "        remainder = msg\n",
        "        m = []\n",
        "        for i in range(blockLen):\n",
        "            quot, remainder = mp.t_divmod(remainder, mp.mpz(charSpace)**(blockLen -1 -i))\n",
        "            m.append(numToChars[quot])\n",
        "        enMsg += ''.join(m)\n",
        "        \n",
        "    \n",
        "    return enMsg"
      ]
    },
    {
      "cell_type": "code",
      "execution_count": 51,
      "metadata": {},
      "outputs": [],
      "source": [
        "def deRSA(text, sender, receiver, operation):\n",
        "    sk = read_file(r\"private_\" + receiver + \".txt\").split()\n",
        "    d = mp.mpz(sk[0].strip())\n",
        "    n = mp.mpz(sk[1].strip())\n",
        "    blockLen = BlockSize(n)\n",
        "    msgBlocks = Msgblock(text, blockLen)\n",
        "    decryptedMsg = []\n",
        "    for block in msgBlocks:\n",
        "        msg = 0\n",
        "        if len(block) != 0:\n",
        "            for i in range(blockLen):\n",
        "                msg += mp.mul(charsTonum[block[i]], mp.mpz(charSpace)**(blockLen -1 -i))\n",
        "            \n",
        "            decryptedMsg.append(msg)\n",
        "    deMsgBlocks = []  \n",
        "    for block in decryptedMsg:\n",
        "        \n",
        "        remain = mp.powmod(block, d, n)\n",
        "        deMsgBlocks.append(remain)\n",
        "    decryptedMsg = \"\"\n",
        "    for msg in deMsgBlocks:\n",
        "        remainder = msg\n",
        "        m = []\n",
        "        for i in range(blockLen):\n",
        "            quot, remainder = mp.t_divmod(remainder, mp.mpz(charSpace)**(blockLen -1 -i))\n",
        "            m.append(numToChars[mp.t_mod(quot, charSpace)])\n",
        "        decryptedMsg += ''.join(m)\n",
        "        \n",
        "    return decryptedMsg"
      ]
    },
    {
      "cell_type": "markdown",
      "metadata": {
        "id": "So6DTFdbfW8Z"
      },
      "source": [
        "Main Function"
      ]
    },
    {
      "cell_type": "code",
      "execution_count": 52,
      "metadata": {
        "id": "PWZxQfhDnU3l"
      },
      "outputs": [
        {
          "name": "stdout",
          "output_type": "stream",
          "text": [
            "JAQRSWRZUORRWZQSQAQRVZASQFEAXRQQGREZEKCDHVMFMFLKHR\n",
            "GAMEOFTHRONESISANAMERICANFANTASYDRAMATELEVISIONSERIESCREATEDBYDAVIDBENIOFFANDDBWEISSFORHBOITISANADAPTATIONOFASONGOFICEANDFIREASERIESOFFANTASYNOVELSBYGEORGERRMARTINTHEFIRSTOFWHICHISAGAMEOFTHRONESTHESHOWWASSHOTINTHEUNITEDKINGDOMCANADACROATIAICELANDMALTAMOROCCOANDSPAINITPREMIEREDONHBOINTHEUNITEDSTATESONAPRILANDCONCLUDEDONMAYWITHEPISODESBROADCASTOVEREIGHTSEASONSSETONTHEFICTIONALCONTINENTSOFWESTEROSANDESSOSGAMEOFTHRONESHASALARGEENSEMBLECASTANDFOLLOWSSEVERALSTORYARCSTHROUGHOUTTHECOURSEOFTHESHOWTHEFIRSTMAJORARCCONCERNSTHEIRONTHRONEOFTHESEVENKINGDOMSOFWESTEROSTHROUGHAWEBOFPOLITICALCONFLICTSAMONGTHENOBLEFAMILIESEITHERVYINGTOCLAIMTHETHRONEORFIGHTINGFORINDEPENDENCEFROMWHOEVERSITSONITASECONDFOCUSESONTHELASTDESCENDANTOFTHEREALMSDEPOSEDRULINGDYNASTYWHOHASBEENEXILEDTOESSOSANDISPLOTTINGTORETURNANDRECLAIMTHETHRONETHETHIRDFOLLOWSTHENIGHTSWATCHAMILITARYORDERDEFENDINGTHEREALMAGAINSTTHREATSFROMBEYONDWESTEROSSNORTHERNBORDERGAMEOFTHRONESATTRACTEDARECORDVIEWERSHIPONHBOANDHASABROADACTIVEANDINTERNATIONALFANBASECRITICSHAVEPRAISEDTHESERIESFORITSACTINGCOMPLEXCHARACTERSSTORYSCOPEANDPRODUCTIONVALUESALTHOUGHITSFREQUENTUSEOFNUDITYANDVIOLENCEINCLUDINGSEXUALVIOLENCEHASBEENSUBJECTTOCRITICISMTHEFINALSEASONRECEIVEDSIGNIFICANTCRITICALBACKLASHFORITSREDUCEDLENGTHANDCREATIVEDECISIONSWITHMANYCONSIDERINGITADISAPPOINTINGCONCLUSIONTHESERIESRECEIVEDPRIMETIMEEMMYAWARDSTHEMOSTBYADRAMASERIESINCLUDINGOUTSTANDINGDRAMASERIESINANDITSOTHERAWARDSANDNOMINATIONSINCLUDETHREEHUGOAWARDSFORBESTDRAMATICPRESENTATIONAPEABODYAWARDANDFIVENOMINATIONSFORTHEGOLDENGLOBEAWARDFORBESTTELEVISIONSERIESDRAMAMANYCRITICSANDPUBLICATIONSHAVENAMEDTHESHOWASONEOFTHEBESTTELEVISIONSERIESOFALLTIME\n"
          ]
        }
      ],
      "source": [
        "if __name__==\"__main__\":\n",
        "  directory=os.getcwd()\n",
        "  data=read_file(\"message.txt\")\n",
        "  data=re.sub(r'[^a-zA-Z]',\"\",data).upper()\n",
        "  charSpace = 29\n",
        "  key=\"DAENERYS\".strip()\n",
        "  sender = \"a\"\n",
        "  receiver = \"b\"\n",
        "  publishKeys()\n",
        "  numToChars = num_to_char_dict()\n",
        "  charsTonum = char_to_num_dict()\n",
        "  encryption(data,sender,receiver,key)\n",
        "  decryption(data,sender,receiver,key)"
      ]
    }
  ],
  "metadata": {
    "colab": {
      "collapsed_sections": [],
      "name": "COL759_assignment2.ipynb",
      "provenance": []
    },
    "interpreter": {
      "hash": "0ac516125b3ee16d4eaa41f008fade7bad50b808bd1b6d74d2e8ae0015ba9066"
    },
    "kernelspec": {
      "display_name": "Python 3.9.5 64-bit",
      "name": "python3"
    },
    "language_info": {
      "codemirror_mode": {
        "name": "ipython",
        "version": 3
      },
      "file_extension": ".py",
      "mimetype": "text/x-python",
      "name": "python",
      "nbconvert_exporter": "python",
      "pygments_lexer": "ipython3",
      "version": "3.9.5"
    }
  },
  "nbformat": 4,
  "nbformat_minor": 0
}
